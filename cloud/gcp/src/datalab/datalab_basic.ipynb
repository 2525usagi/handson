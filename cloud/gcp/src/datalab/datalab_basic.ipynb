{
 "cells": [
  {
   "cell_type": "markdown",
   "metadata": {},
   "source": [
    "## DatalabからBigQueryを呼び出す\n",
    "bqというマジックコマンドを使う"
   ]
  },
  {
   "cell_type": "code",
   "execution_count": null,
   "metadata": {
    "collapsed": true
   },
   "outputs": [],
   "source": [
    "%%bq query\n",
    "SELECT id, title, num_characters\n",
    "FROM `publicdata.samples.wikipedia`\n",
    "WHERE wp_namespace = 0\n",
    "ORDER BY num_characters DESC\n",
    "LIMIT 10"
   ]
  },
  {
   "cell_type": "markdown",
   "metadata": {},
   "source": [
    "## BigQueryコマンドの結果をPythonのオブジェクトして使う（パターン１）"
   ]
  },
  {
   "cell_type": "code",
   "execution_count": null,
   "metadata": {
    "collapsed": true
   },
   "outputs": [],
   "source": [
    "# 発行するクエリ\n",
    "%%bq query -n requests\n",
    "SELECT timestamp, latency, endpoint\n",
    "FROM `cloud-datalab-samples.httplogs.logs_20140615`\n",
    "WHERE endpoint = 'Popular' OR endpoint = 'Recent'\n",
    "\n",
    "import google.datalab.bigquery as bq\n",
    "import pandas as pd\n",
    "\n",
    "# クエリの結果をPandasのデータフレームとしていれる\n",
    "df = requests.execute(output_options=bq.QueryOutput.dataframe()).result()\n",
    "\n",
    "df.head()"
   ]
  },
  {
   "cell_type": "markdown",
   "metadata": {},
   "source": [
    "## BigQueryコマンドの結果をPythonのオブジェクトして使う（パターン２）"
   ]
  },
  {
   "cell_type": "code",
   "execution_count": null,
   "metadata": {
    "collapsed": true
   },
   "outputs": [],
   "source": [
    "import google.datalab.bigquery as bq\n",
    "import pandas as pd\n",
    "\n",
    "# 発行するクエリ\n",
    "query = \"\"\"SELECT timestamp, latency, endpoint\n",
    "           FROM `cloud-datalab-samples.httplogs.logs_20140615`\n",
    "           WHERE endpoint = 'Popular' OR endpoint = 'Recent'\"\"\"\n",
    "# クエリオブジェクトを作る\n",
    "qobj = bq.Query(query)\n",
    "# pandasのデータフレームとしてクエリの結果を取得\n",
    "df2 = qobj.execute(output_options=bq.QueryOutput.dataframe()).result()\n",
    "# 以下pandasの操作へ\n",
    "df2.head()"
   ]
  }
 ],
 "metadata": {
  "kernelspec": {
   "display_name": "Python 2",
   "language": "python",
   "name": "python2"
  },
  "language_info": {
   "codemirror_mode": {
    "name": "ipython",
    "version": 2
   },
   "file_extension": ".py",
   "mimetype": "text/x-python",
   "name": "python",
   "nbconvert_exporter": "python",
   "pygments_lexer": "ipython2",
   "version": "2.7.12"
  }
 },
 "nbformat": 4,
 "nbformat_minor": 2
}
